{
  "nbformat": 4,
  "nbformat_minor": 0,
  "metadata": {
    "colab": {
      "provenance": []
    },
    "kernelspec": {
      "name": "python3",
      "display_name": "Python 3"
    },
    "language_info": {
      "name": "python"
    }
  },
  "cells": [
    {
      "cell_type": "markdown",
      "source": [
        "1) Data Extraction"
      ],
      "metadata": {
        "id": "ncpIQJUd8ME6"
      }
    },
    {
      "cell_type": "code",
      "source": [
        "import numpy as np \n",
        "import pandas as pd"
      ],
      "metadata": {
        "id": "fpiUkAIZCMJT"
      },
      "execution_count": 1,
      "outputs": []
    },
    {
      "cell_type": "code",
      "execution_count": 2,
      "metadata": {
        "colab": {
          "base_uri": "https://localhost:8080/"
        },
        "id": "TsIErucLCJ2H",
        "outputId": "c562208a-d5df-41ab-83b9-1de700fd6bba"
      },
      "outputs": [
        {
          "output_type": "stream",
          "name": "stdout",
          "text": [
            "https://www.news18.com/covid19-analytics-centre/\n",
            "<Response [200]>\n"
          ]
        }
      ],
      "source": [
        "from bs4 import BeautifulSoup\n",
        "import requests\n",
        "heading=[]\n",
        "article=[]\n",
        "url = \"https://www.news18.com/covid19-analytics-centre/\"\n",
        "print(url)\n",
        "body = requests.get(url)\n",
        "print(body)\n",
        "\n"
      ]
    },
    {
      "cell_type": "code",
      "source": [
        "soup = BeautifulSoup(body.content, 'html.parser')\n",
        "#article.append(soup.find(\"h1\", class_=[\"entry-title\",\"tdb-title-text\"]).text.strip())\n",
        "print ('Classes of each table:')\n",
        "for table in soup.find_all ('table'):\n",
        "  print (table.get ('class'))"
      ],
      "metadata": {
        "colab": {
          "base_uri": "https://localhost:8080/"
        },
        "id": "yXUOH7IxCLKV",
        "outputId": "87860d34-b8eb-4cca-9426-da722664789f"
      },
      "execution_count": 3,
      "outputs": [
        {
          "output_type": "stream",
          "name": "stdout",
          "text": [
            "Classes of each table:\n",
            "['analytics-table']\n"
          ]
        }
      ]
    },
    {
      "cell_type": "code",
      "source": [
        "heading=[]\n",
        "a_table=soup.find(\"table\",\"analytics-table\")\n",
        "thead=a_table.find(\"thead\")\n",
        "for div in thead.find_all(\"div\",\"text\"):\n",
        "  #print(div)\n",
        "  heading.append(div.text)\n",
        "print(heading)"
      ],
      "metadata": {
        "colab": {
          "base_uri": "https://localhost:8080/"
        },
        "id": "nevQ8GlAyKwZ",
        "outputId": "8d726603-eb70-4d63-9bfb-07bfc043b483"
      },
      "execution_count": 4,
      "outputs": [
        {
          "output_type": "stream",
          "name": "stdout",
          "text": [
            "['State/UT', 'Total', 'Active', 'Discharged', 'Deaths']\n"
          ]
        }
      ]
    },
    {
      "cell_type": "code",
      "source": [
        "a_table=soup.find(\"table\",\"analytics-table\")\n",
        "tbody=a_table.find(\"tbody\")"
      ],
      "metadata": {
        "id": "34ua2IHvW-FH"
      },
      "execution_count": 5,
      "outputs": []
    },
    {
      "cell_type": "code",
      "source": [
        "row= a_table.find_all('tr')\n",
        "#print(row)\n",
        "print(len(row))\n",
        "cols = a_table.find_all('td')\n",
        "print(len(cols))"
      ],
      "metadata": {
        "colab": {
          "base_uri": "https://localhost:8080/"
        },
        "id": "RsihHQ5-YXyn",
        "outputId": "3468454f-3604-41be-ce35-0cee0f34d5ae"
      },
      "execution_count": 6,
      "outputs": [
        {
          "output_type": "stream",
          "name": "stdout",
          "text": [
            "37\n",
            "180\n"
          ]
        }
      ]
    },
    {
      "cell_type": "code",
      "source": [
        "state=[]\n",
        "total=[]\n",
        "active=[]\n",
        "discharged=[]\n",
        "death=[BlockingIOError]\n",
        "for row in tbody.find_all('tr'):\n",
        "        cols = row.find_all('td')\n",
        "        if len(cols) == len(heading):\n",
        "            state.append((cols[0].text.strip()))\n",
        "            total.append(int(cols[1]['data-number'].strip()))\n",
        "            active.append(int(cols[2]['data-number'].strip()))\n",
        "            discharged.append(int(cols[3]['data-number'].strip()))\n",
        "            death.append(int(cols[4]['data-number'].strip()))\n",
        "death.pop(0)\n",
        "death"
      ],
      "metadata": {
        "colab": {
          "base_uri": "https://localhost:8080/"
        },
        "id": "gZMMaISyeIJk",
        "outputId": "6b7cf94a-f64f-471a-8729-fc32b29641b0"
      },
      "execution_count": 7,
      "outputs": [
        {
          "output_type": "execute_result",
          "data": {
            "text/plain": [
              "[148407,\n",
              " 71502,\n",
              " 40303,\n",
              " 38049,\n",
              " 14733,\n",
              " 23632,\n",
              " 21531,\n",
              " 26518,\n",
              " 9205,\n",
              " 9653,\n",
              " 11043,\n",
              " 14146,\n",
              " 10714,\n",
              " 10776,\n",
              " 12302,\n",
              " 4111,\n",
              " 19289,\n",
              " 8035,\n",
              " 4785,\n",
              " 7751,\n",
              " 5331,\n",
              " 4213,\n",
              " 4013,\n",
              " 726,\n",
              " 1975,\n",
              " 2149,\n",
              " 940,\n",
              " 1181,\n",
              " 1624,\n",
              " 296,\n",
              " 499,\n",
              " 782,\n",
              " 231,\n",
              " 4,\n",
              " 52,\n",
              " 129]"
            ]
          },
          "metadata": {},
          "execution_count": 7
        }
      ]
    },
    {
      "cell_type": "markdown",
      "source": [
        "2)Dataframe Creation"
      ],
      "metadata": {
        "id": "KlsDcIkh8YS9"
      }
    },
    {
      "cell_type": "code",
      "source": [
        "df = pd.DataFrame(list(zip(state,total,active,discharged,death)),\n",
        "               columns =heading)\n",
        "df.head(10)\n",
        "#df.info()"
      ],
      "metadata": {
        "colab": {
          "base_uri": "https://localhost:8080/",
          "height": 362
        },
        "id": "CEUOkS1D0hqS",
        "outputId": "6c9b0c7c-0034-4cea-de10-109576e9f8ac"
      },
      "execution_count": 8,
      "outputs": [
        {
          "output_type": "execute_result",
          "data": {
            "text/plain": [
              "         State/UT    Total  Active  Discharged  Deaths\n",
              "0     Maharashtra  8135977     293     7987277  148407\n",
              "1          Kerala  6826658    1583     6753573   71502\n",
              "2       Karnataka  4071388    1639     4029446   40303\n",
              "3      Tamil Nadu  3594198     127     3556022   38049\n",
              "4  Andhra Pradesh  2339058      10     2324315   14733\n",
              "5   Uttar Pradesh  2128042     111     2104299   23632\n",
              "6     West Bengal  2118494      53     2096910   21531\n",
              "7           Delhi  2006996      30     1980448   26518\n",
              "8          Odisha  1336467      81     1327181    9205\n",
              "9       Rajasthan  1315274      66     1305555    9653"
            ],
            "text/html": [
              "\n",
              "  <div id=\"df-591bc281-9294-4e01-91a8-1f1ccfcd257f\">\n",
              "    <div class=\"colab-df-container\">\n",
              "      <div>\n",
              "<style scoped>\n",
              "    .dataframe tbody tr th:only-of-type {\n",
              "        vertical-align: middle;\n",
              "    }\n",
              "\n",
              "    .dataframe tbody tr th {\n",
              "        vertical-align: top;\n",
              "    }\n",
              "\n",
              "    .dataframe thead th {\n",
              "        text-align: right;\n",
              "    }\n",
              "</style>\n",
              "<table border=\"1\" class=\"dataframe\">\n",
              "  <thead>\n",
              "    <tr style=\"text-align: right;\">\n",
              "      <th></th>\n",
              "      <th>State/UT</th>\n",
              "      <th>Total</th>\n",
              "      <th>Active</th>\n",
              "      <th>Discharged</th>\n",
              "      <th>Deaths</th>\n",
              "    </tr>\n",
              "  </thead>\n",
              "  <tbody>\n",
              "    <tr>\n",
              "      <th>0</th>\n",
              "      <td>Maharashtra</td>\n",
              "      <td>8135977</td>\n",
              "      <td>293</td>\n",
              "      <td>7987277</td>\n",
              "      <td>148407</td>\n",
              "    </tr>\n",
              "    <tr>\n",
              "      <th>1</th>\n",
              "      <td>Kerala</td>\n",
              "      <td>6826658</td>\n",
              "      <td>1583</td>\n",
              "      <td>6753573</td>\n",
              "      <td>71502</td>\n",
              "    </tr>\n",
              "    <tr>\n",
              "      <th>2</th>\n",
              "      <td>Karnataka</td>\n",
              "      <td>4071388</td>\n",
              "      <td>1639</td>\n",
              "      <td>4029446</td>\n",
              "      <td>40303</td>\n",
              "    </tr>\n",
              "    <tr>\n",
              "      <th>3</th>\n",
              "      <td>Tamil Nadu</td>\n",
              "      <td>3594198</td>\n",
              "      <td>127</td>\n",
              "      <td>3556022</td>\n",
              "      <td>38049</td>\n",
              "    </tr>\n",
              "    <tr>\n",
              "      <th>4</th>\n",
              "      <td>Andhra Pradesh</td>\n",
              "      <td>2339058</td>\n",
              "      <td>10</td>\n",
              "      <td>2324315</td>\n",
              "      <td>14733</td>\n",
              "    </tr>\n",
              "    <tr>\n",
              "      <th>5</th>\n",
              "      <td>Uttar Pradesh</td>\n",
              "      <td>2128042</td>\n",
              "      <td>111</td>\n",
              "      <td>2104299</td>\n",
              "      <td>23632</td>\n",
              "    </tr>\n",
              "    <tr>\n",
              "      <th>6</th>\n",
              "      <td>West Bengal</td>\n",
              "      <td>2118494</td>\n",
              "      <td>53</td>\n",
              "      <td>2096910</td>\n",
              "      <td>21531</td>\n",
              "    </tr>\n",
              "    <tr>\n",
              "      <th>7</th>\n",
              "      <td>Delhi</td>\n",
              "      <td>2006996</td>\n",
              "      <td>30</td>\n",
              "      <td>1980448</td>\n",
              "      <td>26518</td>\n",
              "    </tr>\n",
              "    <tr>\n",
              "      <th>8</th>\n",
              "      <td>Odisha</td>\n",
              "      <td>1336467</td>\n",
              "      <td>81</td>\n",
              "      <td>1327181</td>\n",
              "      <td>9205</td>\n",
              "    </tr>\n",
              "    <tr>\n",
              "      <th>9</th>\n",
              "      <td>Rajasthan</td>\n",
              "      <td>1315274</td>\n",
              "      <td>66</td>\n",
              "      <td>1305555</td>\n",
              "      <td>9653</td>\n",
              "    </tr>\n",
              "  </tbody>\n",
              "</table>\n",
              "</div>\n",
              "      <button class=\"colab-df-convert\" onclick=\"convertToInteractive('df-591bc281-9294-4e01-91a8-1f1ccfcd257f')\"\n",
              "              title=\"Convert this dataframe to an interactive table.\"\n",
              "              style=\"display:none;\">\n",
              "        \n",
              "  <svg xmlns=\"http://www.w3.org/2000/svg\" height=\"24px\"viewBox=\"0 0 24 24\"\n",
              "       width=\"24px\">\n",
              "    <path d=\"M0 0h24v24H0V0z\" fill=\"none\"/>\n",
              "    <path d=\"M18.56 5.44l.94 2.06.94-2.06 2.06-.94-2.06-.94-.94-2.06-.94 2.06-2.06.94zm-11 1L8.5 8.5l.94-2.06 2.06-.94-2.06-.94L8.5 2.5l-.94 2.06-2.06.94zm10 10l.94 2.06.94-2.06 2.06-.94-2.06-.94-.94-2.06-.94 2.06-2.06.94z\"/><path d=\"M17.41 7.96l-1.37-1.37c-.4-.4-.92-.59-1.43-.59-.52 0-1.04.2-1.43.59L10.3 9.45l-7.72 7.72c-.78.78-.78 2.05 0 2.83L4 21.41c.39.39.9.59 1.41.59.51 0 1.02-.2 1.41-.59l7.78-7.78 2.81-2.81c.8-.78.8-2.07 0-2.86zM5.41 20L4 18.59l7.72-7.72 1.47 1.35L5.41 20z\"/>\n",
              "  </svg>\n",
              "      </button>\n",
              "      \n",
              "  <style>\n",
              "    .colab-df-container {\n",
              "      display:flex;\n",
              "      flex-wrap:wrap;\n",
              "      gap: 12px;\n",
              "    }\n",
              "\n",
              "    .colab-df-convert {\n",
              "      background-color: #E8F0FE;\n",
              "      border: none;\n",
              "      border-radius: 50%;\n",
              "      cursor: pointer;\n",
              "      display: none;\n",
              "      fill: #1967D2;\n",
              "      height: 32px;\n",
              "      padding: 0 0 0 0;\n",
              "      width: 32px;\n",
              "    }\n",
              "\n",
              "    .colab-df-convert:hover {\n",
              "      background-color: #E2EBFA;\n",
              "      box-shadow: 0px 1px 2px rgba(60, 64, 67, 0.3), 0px 1px 3px 1px rgba(60, 64, 67, 0.15);\n",
              "      fill: #174EA6;\n",
              "    }\n",
              "\n",
              "    [theme=dark] .colab-df-convert {\n",
              "      background-color: #3B4455;\n",
              "      fill: #D2E3FC;\n",
              "    }\n",
              "\n",
              "    [theme=dark] .colab-df-convert:hover {\n",
              "      background-color: #434B5C;\n",
              "      box-shadow: 0px 1px 3px 1px rgba(0, 0, 0, 0.15);\n",
              "      filter: drop-shadow(0px 1px 2px rgba(0, 0, 0, 0.3));\n",
              "      fill: #FFFFFF;\n",
              "    }\n",
              "  </style>\n",
              "\n",
              "      <script>\n",
              "        const buttonEl =\n",
              "          document.querySelector('#df-591bc281-9294-4e01-91a8-1f1ccfcd257f button.colab-df-convert');\n",
              "        buttonEl.style.display =\n",
              "          google.colab.kernel.accessAllowed ? 'block' : 'none';\n",
              "\n",
              "        async function convertToInteractive(key) {\n",
              "          const element = document.querySelector('#df-591bc281-9294-4e01-91a8-1f1ccfcd257f');\n",
              "          const dataTable =\n",
              "            await google.colab.kernel.invokeFunction('convertToInteractive',\n",
              "                                                     [key], {});\n",
              "          if (!dataTable) return;\n",
              "\n",
              "          const docLinkHtml = 'Like what you see? Visit the ' +\n",
              "            '<a target=\"_blank\" href=https://colab.research.google.com/notebooks/data_table.ipynb>data table notebook</a>'\n",
              "            + ' to learn more about interactive tables.';\n",
              "          element.innerHTML = '';\n",
              "          dataTable['output_type'] = 'display_data';\n",
              "          await google.colab.output.renderOutput(dataTable, element);\n",
              "          const docLink = document.createElement('div');\n",
              "          docLink.innerHTML = docLinkHtml;\n",
              "          element.appendChild(docLink);\n",
              "        }\n",
              "      </script>\n",
              "    </div>\n",
              "  </div>\n",
              "  "
            ]
          },
          "metadata": {},
          "execution_count": 8
        }
      ]
    },
    {
      "cell_type": "markdown",
      "source": [
        "3)CSV file creation"
      ],
      "metadata": {
        "id": "HGhRxWYa8b3k"
      }
    },
    {
      "cell_type": "code",
      "source": [
        "df.to_csv('covid_output.csv')"
      ],
      "metadata": {
        "id": "GGP66_vy1LFe"
      },
      "execution_count": 9,
      "outputs": []
    },
    {
      "cell_type": "markdown",
      "source": [
        "4)Saving in database"
      ],
      "metadata": {
        "id": "AmFHDpUq8gEw"
      }
    },
    {
      "cell_type": "code",
      "source": [
        "!pip install pymongo\n",
        "import pandas as pd\n",
        "import pymongo\n",
        "from pymongo import MongoClient\n",
        "\n",
        "!apt install mongodb >log\n",
        "!service mongodb start"
      ],
      "metadata": {
        "colab": {
          "base_uri": "https://localhost:8080/"
        },
        "id": "85h8THWD_L5t",
        "outputId": "6a6e99d0-837f-433c-85f1-4570f7fe6fb3"
      },
      "execution_count": 10,
      "outputs": [
        {
          "output_type": "stream",
          "name": "stdout",
          "text": [
            "Looking in indexes: https://pypi.org/simple, https://us-python.pkg.dev/colab-wheels/public/simple/\n",
            "Requirement already satisfied: pymongo in /usr/local/lib/python3.9/dist-packages (4.3.3)\n",
            "Requirement already satisfied: dnspython<3.0.0,>=1.16.0 in /usr/local/lib/python3.9/dist-packages (from pymongo) (2.3.0)\n",
            "\n",
            "WARNING: apt does not have a stable CLI interface. Use with caution in scripts.\n",
            "\n",
            " * Starting database mongodb\n",
            "   ...done.\n"
          ]
        }
      ]
    },
    {
      "cell_type": "code",
      "source": [
        "# Making a Connection with MongoClient\n",
        "client = MongoClient()\n",
        "# database\n",
        "db = client[\"Health_analytics\"]\n",
        "# collection\n",
        "company= db[\"Covid_details\"]"
      ],
      "metadata": {
        "id": "1QbXHqA9_b4P"
      },
      "execution_count": 11,
      "outputs": []
    },
    {
      "cell_type": "code",
      "source": [
        "data=df\n",
        "data.reset_index(inplace=True)\n",
        "data_dict = data.to_dict(\"records\")\n",
        "company.insert_one({\"index\":\"Covid\",\"data\":data_dict})"
      ],
      "metadata": {
        "colab": {
          "base_uri": "https://localhost:8080/"
        },
        "id": "lknIHewKAuVj",
        "outputId": "1f6e8e32-cbe1-4b2a-bac5-6a9fc9dfb7d3"
      },
      "execution_count": 12,
      "outputs": [
        {
          "output_type": "execute_result",
          "data": {
            "text/plain": [
              "<pymongo.results.InsertOneResult at 0x7f18f6f5bca0>"
            ]
          },
          "metadata": {},
          "execution_count": 12
        }
      ]
    },
    {
      "cell_type": "code",
      "source": [
        "data_from_db = company.find_one({\"index\":\"Covid\"})\n",
        "df1 = pd.DataFrame(data_from_db[\"data\"])\n",
        "#df.set_index(\"Date\",inplace=True)\n",
        "print(df1)"
      ],
      "metadata": {
        "colab": {
          "base_uri": "https://localhost:8080/"
        },
        "id": "g9PtAJG_CQdJ",
        "outputId": "81a8dff3-1bfc-4a70-c8d7-1129b24f030d"
      },
      "execution_count": 13,
      "outputs": [
        {
          "output_type": "stream",
          "name": "stdout",
          "text": [
            "    level_0  index             State/UT    Total  Active  Discharged  Deaths\n",
            "0         0      0          Maharashtra  8135977     293     7987277  148407\n",
            "1         1      1               Kerala  6826658    1583     6753573   71502\n",
            "2         2      2            Karnataka  4071388    1639     4029446   40303\n",
            "3         3      3           Tamil Nadu  3594198     127     3556022   38049\n",
            "4         4      4       Andhra Pradesh  2339058      10     2324315   14733\n",
            "5         5      5        Uttar Pradesh  2128042     111     2104299   23632\n",
            "6         6      6          West Bengal  2118494      53     2096910   21531\n",
            "7         7      7                Delhi  2006996      30     1980448   26518\n",
            "8         8      8               Odisha  1336467      81     1327181    9205\n",
            "9         9      9            Rajasthan  1315274      66     1305555    9653\n",
            "10       10     10              Gujarat  1277464     186     1266235   11043\n",
            "11       11     11         Chhattisgarh  1177733       7     1163580   14146\n",
            "12       12     12              Haryana  1056532      40     1045778   10714\n",
            "13       13     13       Madhya Pradesh  1054905       9     1044120   10776\n",
            "14       14     14                Bihar   851354      12      839040   12302\n",
            "15       15     15            Telangana   841130      56      836963    4111\n",
            "16       16     16               Punjab   784140      21      764830   19289\n",
            "17       17     17                Assam   746099       0      738064    8035\n",
            "18       18     18    Jammu and Kashmir   479372      18      474569    4785\n",
            "19       19     19          Uttarakhand   449292      28      441513    7751\n",
            "20       20     20            Jharkhand   442567       0      437236    5331\n",
            "21       21     21     Himachal Pradesh   312581      19      308349    4213\n",
            "22       22     22                  Goa   259036      17      255006    4013\n",
            "23       23     23              Mizoram   238956       6      238224     726\n",
            "24       24     24           Puducherry   175491       6      173510    1975\n",
            "25       25     25              Manipur   139919       5      137765    2149\n",
            "26       26     26              Tripura   108033       0      107093     940\n",
            "27       27     27           Chandigarh    99338       2       98155    1181\n",
            "28       28     28            Meghalaya    96779       3       95152    1624\n",
            "29       29     29    Arunachal Pradesh    66889       2       66591     296\n",
            "30       30     30               Sikkim    44317       2       43816     499\n",
            "31       31     31             Nagaland    35986       0       35204     782\n",
            "32       32     32               Ladakh    29406       2       29173     231\n",
            "33       33     33   Dadra Nagar Haveli    11591       0       11587       4\n",
            "34       34     34          Lakshadweep    11415       0       11363      52\n",
            "35       35     35  Andaman and Nicobar    10741       0       10612     129\n"
          ]
        }
      ]
    },
    {
      "cell_type": "markdown",
      "source": [
        "5)Analysis using Plotly"
      ],
      "metadata": {
        "id": "8BHzHLX6IsPR"
      }
    },
    {
      "cell_type": "code",
      "source": [
        "import plotly.graph_objects as go\n",
        "from plotly.subplots import make_subplots\n",
        "from plotly.offline import plot, iplot, init_notebook_mode"
      ],
      "metadata": {
        "id": "eh98EqPwVJuC"
      },
      "execution_count": 14,
      "outputs": []
    },
    {
      "cell_type": "code",
      "source": [
        "import plotly.express as px\n",
        "import numpy"
      ],
      "metadata": {
        "id": "xgZtcen4fQ70"
      },
      "execution_count": 15,
      "outputs": []
    },
    {
      "cell_type": "code",
      "source": [
        "df.columns"
      ],
      "metadata": {
        "colab": {
          "base_uri": "https://localhost:8080/"
        },
        "id": "mmJg0ZxfxKda",
        "outputId": "48281b14-d9b3-4a68-f047-b84b073ef308"
      },
      "execution_count": 16,
      "outputs": [
        {
          "output_type": "execute_result",
          "data": {
            "text/plain": [
              "Index(['index', 'State/UT', 'Total', 'Active', 'Discharged', 'Deaths'], dtype='object')"
            ]
          },
          "metadata": {},
          "execution_count": 16
        }
      ]
    },
    {
      "cell_type": "code",
      "source": [
        "from plotly.subplots import make_subplots"
      ],
      "metadata": {
        "id": "rqSbgT2pzBEs"
      },
      "execution_count": 17,
      "outputs": []
    },
    {
      "cell_type": "code",
      "source": [
        "state = 'State/UT'\n",
        "cases = 'Total'\n",
        "active='Active'\n",
        "death='Deaths'\n",
        "discharged='Discharged'\n",
        "trace1 = go.Bar(\n",
        "    x=df[state],\n",
        "    y=df[cases],\n",
        "    \n",
        ")\n",
        "trace2 = go.Scatter(\n",
        "    x=df[state],\n",
        "    y=df[death],\n",
        "    #yaxis='y2'\n",
        "\n",
        ")\n",
        "\n",
        "trace3 = go.Scatter(\n",
        "    x=df[state],\n",
        "    y=df[active],\n",
        "    )\n",
        "\n",
        "trace4 = go.Pie(\n",
        "    labels=df[state],\n",
        "    values=df[active],\n",
        "    domain=dict(x=[0, 0.5]),\n",
        "     )\n",
        "\n",
        "\n",
        "  \n",
        "fig = make_subplots(\n",
        "   rows=2, cols=2,\n",
        "   specs=[[{\"type\": \"bar\"},{\"type\":\"scatter\"}],\n",
        "          [{\"type\": \"pie\"},{\"type\": \"pie\"}]],\n",
        "  subplot_titles=(\"Plot 1-Total cases in each state\", \"Plot 2-State wise death\", \"Plot 3-State wise active cases\")\n",
        "\n",
        ")\n",
        "\n",
        "#fig = make_subplots(rows=2, cols=2, subplot_titles=(\"Plot 1-Total cases in each state\", \"Plot 2-State wise death\", \"Plot 3-State wise active cases\"))\n",
        "fig.add_trace(trace1, row=1, col=1)\n",
        "fig.add_trace(trace2, row=1, col=2)\n",
        "#fig.add_trace(trace3, row=2, col=1)\n",
        "fig.add_trace(trace4, row=2, col=1)\n",
        "\n",
        "fig.update_layout(height=1200, width=700,\n",
        "                  title_text=\"Covid cases Analysis -INDIA\")\n",
        "\n",
        "#fig.update_layout(xaxis=dict(tickangle=45))\n",
        "fig.show()"
      ],
      "metadata": {
        "colab": {
          "base_uri": "https://localhost:8080/",
          "height": 1000
        },
        "id": "ocsIQkyIIW7Y",
        "outputId": "e351f4da-2e71-4a75-c09c-b3b1c29c7bd1"
      },
      "execution_count": 18,
      "outputs": [
        {
          "output_type": "display_data",
          "data": {
            "text/html": [
              "<html>\n",
              "<head><meta charset=\"utf-8\" /></head>\n",
              "<body>\n",
              "    <div>            <script src=\"https://cdnjs.cloudflare.com/ajax/libs/mathjax/2.7.5/MathJax.js?config=TeX-AMS-MML_SVG\"></script><script type=\"text/javascript\">if (window.MathJax && window.MathJax.Hub && window.MathJax.Hub.Config) {window.MathJax.Hub.Config({SVG: {font: \"STIX-Web\"}});}</script>                <script type=\"text/javascript\">window.PlotlyConfig = {MathJaxConfig: 'local'};</script>\n",
              "        <script src=\"https://cdn.plot.ly/plotly-2.18.2.min.js\"></script>                <div id=\"18a3ebc8-2b3b-4262-8209-42888204122c\" class=\"plotly-graph-div\" style=\"height:1200px; width:700px;\"></div>            <script type=\"text/javascript\">                                    window.PLOTLYENV=window.PLOTLYENV || {};                                    if (document.getElementById(\"18a3ebc8-2b3b-4262-8209-42888204122c\")) {                    Plotly.newPlot(                        \"18a3ebc8-2b3b-4262-8209-42888204122c\",                        [{\"x\":[\"Maharashtra\",\"Kerala\",\"Karnataka\",\"Tamil Nadu\",\"Andhra Pradesh\",\"Uttar Pradesh\",\"West Bengal\",\"Delhi\",\"Odisha\",\"Rajasthan\",\"Gujarat\",\"Chhattisgarh\",\"Haryana\",\"Madhya Pradesh\",\"Bihar\",\"Telangana\",\"Punjab\",\"Assam\",\"Jammu and Kashmir\",\"Uttarakhand\",\"Jharkhand\",\"Himachal Pradesh\",\"Goa\",\"Mizoram\",\"Puducherry\",\"Manipur\",\"Tripura\",\"Chandigarh\",\"Meghalaya\",\"Arunachal Pradesh\",\"Sikkim\",\"Nagaland\",\"Ladakh\",\"Dadra Nagar Haveli\",\"Lakshadweep\",\"Andaman and Nicobar\"],\"y\":[8135977,6826658,4071388,3594198,2339058,2128042,2118494,2006996,1336467,1315274,1277464,1177733,1056532,1054905,851354,841130,784140,746099,479372,449292,442567,312581,259036,238956,175491,139919,108033,99338,96779,66889,44317,35986,29406,11591,11415,10741],\"type\":\"bar\",\"xaxis\":\"x\",\"yaxis\":\"y\"},{\"x\":[\"Maharashtra\",\"Kerala\",\"Karnataka\",\"Tamil Nadu\",\"Andhra Pradesh\",\"Uttar Pradesh\",\"West Bengal\",\"Delhi\",\"Odisha\",\"Rajasthan\",\"Gujarat\",\"Chhattisgarh\",\"Haryana\",\"Madhya Pradesh\",\"Bihar\",\"Telangana\",\"Punjab\",\"Assam\",\"Jammu and Kashmir\",\"Uttarakhand\",\"Jharkhand\",\"Himachal Pradesh\",\"Goa\",\"Mizoram\",\"Puducherry\",\"Manipur\",\"Tripura\",\"Chandigarh\",\"Meghalaya\",\"Arunachal Pradesh\",\"Sikkim\",\"Nagaland\",\"Ladakh\",\"Dadra Nagar Haveli\",\"Lakshadweep\",\"Andaman and Nicobar\"],\"y\":[148407,71502,40303,38049,14733,23632,21531,26518,9205,9653,11043,14146,10714,10776,12302,4111,19289,8035,4785,7751,5331,4213,4013,726,1975,2149,940,1181,1624,296,499,782,231,4,52,129],\"type\":\"scatter\",\"xaxis\":\"x2\",\"yaxis\":\"y2\"},{\"domain\":{\"x\":[0.0,0.45],\"y\":[0.0,0.375]},\"labels\":[\"Maharashtra\",\"Kerala\",\"Karnataka\",\"Tamil Nadu\",\"Andhra Pradesh\",\"Uttar Pradesh\",\"West Bengal\",\"Delhi\",\"Odisha\",\"Rajasthan\",\"Gujarat\",\"Chhattisgarh\",\"Haryana\",\"Madhya Pradesh\",\"Bihar\",\"Telangana\",\"Punjab\",\"Assam\",\"Jammu and Kashmir\",\"Uttarakhand\",\"Jharkhand\",\"Himachal Pradesh\",\"Goa\",\"Mizoram\",\"Puducherry\",\"Manipur\",\"Tripura\",\"Chandigarh\",\"Meghalaya\",\"Arunachal Pradesh\",\"Sikkim\",\"Nagaland\",\"Ladakh\",\"Dadra Nagar Haveli\",\"Lakshadweep\",\"Andaman and Nicobar\"],\"values\":[293,1583,1639,127,10,111,53,30,81,66,186,7,40,9,12,56,21,0,18,28,0,19,17,6,6,5,0,2,3,2,2,0,2,0,0,0],\"type\":\"pie\"}],                        {\"template\":{\"data\":{\"histogram2dcontour\":[{\"type\":\"histogram2dcontour\",\"colorbar\":{\"outlinewidth\":0,\"ticks\":\"\"},\"colorscale\":[[0.0,\"#0d0887\"],[0.1111111111111111,\"#46039f\"],[0.2222222222222222,\"#7201a8\"],[0.3333333333333333,\"#9c179e\"],[0.4444444444444444,\"#bd3786\"],[0.5555555555555556,\"#d8576b\"],[0.6666666666666666,\"#ed7953\"],[0.7777777777777778,\"#fb9f3a\"],[0.8888888888888888,\"#fdca26\"],[1.0,\"#f0f921\"]]}],\"choropleth\":[{\"type\":\"choropleth\",\"colorbar\":{\"outlinewidth\":0,\"ticks\":\"\"}}],\"histogram2d\":[{\"type\":\"histogram2d\",\"colorbar\":{\"outlinewidth\":0,\"ticks\":\"\"},\"colorscale\":[[0.0,\"#0d0887\"],[0.1111111111111111,\"#46039f\"],[0.2222222222222222,\"#7201a8\"],[0.3333333333333333,\"#9c179e\"],[0.4444444444444444,\"#bd3786\"],[0.5555555555555556,\"#d8576b\"],[0.6666666666666666,\"#ed7953\"],[0.7777777777777778,\"#fb9f3a\"],[0.8888888888888888,\"#fdca26\"],[1.0,\"#f0f921\"]]}],\"heatmap\":[{\"type\":\"heatmap\",\"colorbar\":{\"outlinewidth\":0,\"ticks\":\"\"},\"colorscale\":[[0.0,\"#0d0887\"],[0.1111111111111111,\"#46039f\"],[0.2222222222222222,\"#7201a8\"],[0.3333333333333333,\"#9c179e\"],[0.4444444444444444,\"#bd3786\"],[0.5555555555555556,\"#d8576b\"],[0.6666666666666666,\"#ed7953\"],[0.7777777777777778,\"#fb9f3a\"],[0.8888888888888888,\"#fdca26\"],[1.0,\"#f0f921\"]]}],\"heatmapgl\":[{\"type\":\"heatmapgl\",\"colorbar\":{\"outlinewidth\":0,\"ticks\":\"\"},\"colorscale\":[[0.0,\"#0d0887\"],[0.1111111111111111,\"#46039f\"],[0.2222222222222222,\"#7201a8\"],[0.3333333333333333,\"#9c179e\"],[0.4444444444444444,\"#bd3786\"],[0.5555555555555556,\"#d8576b\"],[0.6666666666666666,\"#ed7953\"],[0.7777777777777778,\"#fb9f3a\"],[0.8888888888888888,\"#fdca26\"],[1.0,\"#f0f921\"]]}],\"contourcarpet\":[{\"type\":\"contourcarpet\",\"colorbar\":{\"outlinewidth\":0,\"ticks\":\"\"}}],\"contour\":[{\"type\":\"contour\",\"colorbar\":{\"outlinewidth\":0,\"ticks\":\"\"},\"colorscale\":[[0.0,\"#0d0887\"],[0.1111111111111111,\"#46039f\"],[0.2222222222222222,\"#7201a8\"],[0.3333333333333333,\"#9c179e\"],[0.4444444444444444,\"#bd3786\"],[0.5555555555555556,\"#d8576b\"],[0.6666666666666666,\"#ed7953\"],[0.7777777777777778,\"#fb9f3a\"],[0.8888888888888888,\"#fdca26\"],[1.0,\"#f0f921\"]]}],\"surface\":[{\"type\":\"surface\",\"colorbar\":{\"outlinewidth\":0,\"ticks\":\"\"},\"colorscale\":[[0.0,\"#0d0887\"],[0.1111111111111111,\"#46039f\"],[0.2222222222222222,\"#7201a8\"],[0.3333333333333333,\"#9c179e\"],[0.4444444444444444,\"#bd3786\"],[0.5555555555555556,\"#d8576b\"],[0.6666666666666666,\"#ed7953\"],[0.7777777777777778,\"#fb9f3a\"],[0.8888888888888888,\"#fdca26\"],[1.0,\"#f0f921\"]]}],\"mesh3d\":[{\"type\":\"mesh3d\",\"colorbar\":{\"outlinewidth\":0,\"ticks\":\"\"}}],\"scatter\":[{\"fillpattern\":{\"fillmode\":\"overlay\",\"size\":10,\"solidity\":0.2},\"type\":\"scatter\"}],\"parcoords\":[{\"type\":\"parcoords\",\"line\":{\"colorbar\":{\"outlinewidth\":0,\"ticks\":\"\"}}}],\"scatterpolargl\":[{\"type\":\"scatterpolargl\",\"marker\":{\"colorbar\":{\"outlinewidth\":0,\"ticks\":\"\"}}}],\"bar\":[{\"error_x\":{\"color\":\"#2a3f5f\"},\"error_y\":{\"color\":\"#2a3f5f\"},\"marker\":{\"line\":{\"color\":\"#E5ECF6\",\"width\":0.5},\"pattern\":{\"fillmode\":\"overlay\",\"size\":10,\"solidity\":0.2}},\"type\":\"bar\"}],\"scattergeo\":[{\"type\":\"scattergeo\",\"marker\":{\"colorbar\":{\"outlinewidth\":0,\"ticks\":\"\"}}}],\"scatterpolar\":[{\"type\":\"scatterpolar\",\"marker\":{\"colorbar\":{\"outlinewidth\":0,\"ticks\":\"\"}}}],\"histogram\":[{\"marker\":{\"pattern\":{\"fillmode\":\"overlay\",\"size\":10,\"solidity\":0.2}},\"type\":\"histogram\"}],\"scattergl\":[{\"type\":\"scattergl\",\"marker\":{\"colorbar\":{\"outlinewidth\":0,\"ticks\":\"\"}}}],\"scatter3d\":[{\"type\":\"scatter3d\",\"line\":{\"colorbar\":{\"outlinewidth\":0,\"ticks\":\"\"}},\"marker\":{\"colorbar\":{\"outlinewidth\":0,\"ticks\":\"\"}}}],\"scattermapbox\":[{\"type\":\"scattermapbox\",\"marker\":{\"colorbar\":{\"outlinewidth\":0,\"ticks\":\"\"}}}],\"scatterternary\":[{\"type\":\"scatterternary\",\"marker\":{\"colorbar\":{\"outlinewidth\":0,\"ticks\":\"\"}}}],\"scattercarpet\":[{\"type\":\"scattercarpet\",\"marker\":{\"colorbar\":{\"outlinewidth\":0,\"ticks\":\"\"}}}],\"carpet\":[{\"aaxis\":{\"endlinecolor\":\"#2a3f5f\",\"gridcolor\":\"white\",\"linecolor\":\"white\",\"minorgridcolor\":\"white\",\"startlinecolor\":\"#2a3f5f\"},\"baxis\":{\"endlinecolor\":\"#2a3f5f\",\"gridcolor\":\"white\",\"linecolor\":\"white\",\"minorgridcolor\":\"white\",\"startlinecolor\":\"#2a3f5f\"},\"type\":\"carpet\"}],\"table\":[{\"cells\":{\"fill\":{\"color\":\"#EBF0F8\"},\"line\":{\"color\":\"white\"}},\"header\":{\"fill\":{\"color\":\"#C8D4E3\"},\"line\":{\"color\":\"white\"}},\"type\":\"table\"}],\"barpolar\":[{\"marker\":{\"line\":{\"color\":\"#E5ECF6\",\"width\":0.5},\"pattern\":{\"fillmode\":\"overlay\",\"size\":10,\"solidity\":0.2}},\"type\":\"barpolar\"}],\"pie\":[{\"automargin\":true,\"type\":\"pie\"}]},\"layout\":{\"autotypenumbers\":\"strict\",\"colorway\":[\"#636efa\",\"#EF553B\",\"#00cc96\",\"#ab63fa\",\"#FFA15A\",\"#19d3f3\",\"#FF6692\",\"#B6E880\",\"#FF97FF\",\"#FECB52\"],\"font\":{\"color\":\"#2a3f5f\"},\"hovermode\":\"closest\",\"hoverlabel\":{\"align\":\"left\"},\"paper_bgcolor\":\"white\",\"plot_bgcolor\":\"#E5ECF6\",\"polar\":{\"bgcolor\":\"#E5ECF6\",\"angularaxis\":{\"gridcolor\":\"white\",\"linecolor\":\"white\",\"ticks\":\"\"},\"radialaxis\":{\"gridcolor\":\"white\",\"linecolor\":\"white\",\"ticks\":\"\"}},\"ternary\":{\"bgcolor\":\"#E5ECF6\",\"aaxis\":{\"gridcolor\":\"white\",\"linecolor\":\"white\",\"ticks\":\"\"},\"baxis\":{\"gridcolor\":\"white\",\"linecolor\":\"white\",\"ticks\":\"\"},\"caxis\":{\"gridcolor\":\"white\",\"linecolor\":\"white\",\"ticks\":\"\"}},\"coloraxis\":{\"colorbar\":{\"outlinewidth\":0,\"ticks\":\"\"}},\"colorscale\":{\"sequential\":[[0.0,\"#0d0887\"],[0.1111111111111111,\"#46039f\"],[0.2222222222222222,\"#7201a8\"],[0.3333333333333333,\"#9c179e\"],[0.4444444444444444,\"#bd3786\"],[0.5555555555555556,\"#d8576b\"],[0.6666666666666666,\"#ed7953\"],[0.7777777777777778,\"#fb9f3a\"],[0.8888888888888888,\"#fdca26\"],[1.0,\"#f0f921\"]],\"sequentialminus\":[[0.0,\"#0d0887\"],[0.1111111111111111,\"#46039f\"],[0.2222222222222222,\"#7201a8\"],[0.3333333333333333,\"#9c179e\"],[0.4444444444444444,\"#bd3786\"],[0.5555555555555556,\"#d8576b\"],[0.6666666666666666,\"#ed7953\"],[0.7777777777777778,\"#fb9f3a\"],[0.8888888888888888,\"#fdca26\"],[1.0,\"#f0f921\"]],\"diverging\":[[0,\"#8e0152\"],[0.1,\"#c51b7d\"],[0.2,\"#de77ae\"],[0.3,\"#f1b6da\"],[0.4,\"#fde0ef\"],[0.5,\"#f7f7f7\"],[0.6,\"#e6f5d0\"],[0.7,\"#b8e186\"],[0.8,\"#7fbc41\"],[0.9,\"#4d9221\"],[1,\"#276419\"]]},\"xaxis\":{\"gridcolor\":\"white\",\"linecolor\":\"white\",\"ticks\":\"\",\"title\":{\"standoff\":15},\"zerolinecolor\":\"white\",\"automargin\":true,\"zerolinewidth\":2},\"yaxis\":{\"gridcolor\":\"white\",\"linecolor\":\"white\",\"ticks\":\"\",\"title\":{\"standoff\":15},\"zerolinecolor\":\"white\",\"automargin\":true,\"zerolinewidth\":2},\"scene\":{\"xaxis\":{\"backgroundcolor\":\"#E5ECF6\",\"gridcolor\":\"white\",\"linecolor\":\"white\",\"showbackground\":true,\"ticks\":\"\",\"zerolinecolor\":\"white\",\"gridwidth\":2},\"yaxis\":{\"backgroundcolor\":\"#E5ECF6\",\"gridcolor\":\"white\",\"linecolor\":\"white\",\"showbackground\":true,\"ticks\":\"\",\"zerolinecolor\":\"white\",\"gridwidth\":2},\"zaxis\":{\"backgroundcolor\":\"#E5ECF6\",\"gridcolor\":\"white\",\"linecolor\":\"white\",\"showbackground\":true,\"ticks\":\"\",\"zerolinecolor\":\"white\",\"gridwidth\":2}},\"shapedefaults\":{\"line\":{\"color\":\"#2a3f5f\"}},\"annotationdefaults\":{\"arrowcolor\":\"#2a3f5f\",\"arrowhead\":0,\"arrowwidth\":1},\"geo\":{\"bgcolor\":\"white\",\"landcolor\":\"#E5ECF6\",\"subunitcolor\":\"white\",\"showland\":true,\"showlakes\":true,\"lakecolor\":\"white\"},\"title\":{\"x\":0.05},\"mapbox\":{\"style\":\"light\"}}},\"xaxis\":{\"anchor\":\"y\",\"domain\":[0.0,0.45]},\"yaxis\":{\"anchor\":\"x\",\"domain\":[0.625,1.0]},\"xaxis2\":{\"anchor\":\"y2\",\"domain\":[0.55,1.0]},\"yaxis2\":{\"anchor\":\"x2\",\"domain\":[0.625,1.0]},\"annotations\":[{\"font\":{\"size\":16},\"showarrow\":false,\"text\":\"Plot 1-Total cases in each state\",\"x\":0.225,\"xanchor\":\"center\",\"xref\":\"paper\",\"y\":1.0,\"yanchor\":\"bottom\",\"yref\":\"paper\"},{\"font\":{\"size\":16},\"showarrow\":false,\"text\":\"Plot 2-State wise death\",\"x\":0.775,\"xanchor\":\"center\",\"xref\":\"paper\",\"y\":1.0,\"yanchor\":\"bottom\",\"yref\":\"paper\"},{\"font\":{\"size\":16},\"showarrow\":false,\"text\":\"Plot 3-State wise active cases\",\"x\":0.225,\"xanchor\":\"center\",\"xref\":\"paper\",\"y\":0.375,\"yanchor\":\"bottom\",\"yref\":\"paper\"}],\"title\":{\"text\":\"Covid cases Analysis -INDIA\"},\"height\":1200,\"width\":700},                        {\"responsive\": true}                    ).then(function(){\n",
              "                            \n",
              "var gd = document.getElementById('18a3ebc8-2b3b-4262-8209-42888204122c');\n",
              "var x = new MutationObserver(function (mutations, observer) {{\n",
              "        var display = window.getComputedStyle(gd).display;\n",
              "        if (!display || display === 'none') {{\n",
              "            console.log([gd, 'removed!']);\n",
              "            Plotly.purge(gd);\n",
              "            observer.disconnect();\n",
              "        }}\n",
              "}});\n",
              "\n",
              "// Listen for the removal of the full notebook cells\n",
              "var notebookContainer = gd.closest('#notebook-container');\n",
              "if (notebookContainer) {{\n",
              "    x.observe(notebookContainer, {childList: true});\n",
              "}}\n",
              "\n",
              "// Listen for the clearing of the current output cell\n",
              "var outputEl = gd.closest('.output');\n",
              "if (outputEl) {{\n",
              "    x.observe(outputEl, {childList: true});\n",
              "}}\n",
              "\n",
              "                        })                };                            </script>        </div>\n",
              "</body>\n",
              "</html>"
            ]
          },
          "metadata": {}
        }
      ]
    },
    {
      "cell_type": "markdown",
      "source": [
        "6)Saving image as png"
      ],
      "metadata": {
        "id": "Ikem4fzKRUjZ"
      }
    },
    {
      "cell_type": "code",
      "source": [
        "\n",
        "import plotly.io as pio"
      ],
      "metadata": {
        "id": "gv_4ScRomDn5"
      },
      "execution_count": 20,
      "outputs": []
    },
    {
      "cell_type": "code",
      "source": [
        "!pip install -U kaleido"
      ],
      "metadata": {
        "colab": {
          "base_uri": "https://localhost:8080/"
        },
        "id": "tDznkmq5Hsot",
        "outputId": "a2c1b369-4ab7-4767-c22c-ef7c44864dd0"
      },
      "execution_count": 21,
      "outputs": [
        {
          "output_type": "stream",
          "name": "stdout",
          "text": [
            "Looking in indexes: https://pypi.org/simple, https://us-python.pkg.dev/colab-wheels/public/simple/\n",
            "Requirement already satisfied: kaleido in /usr/local/lib/python3.9/dist-packages (0.2.1)\n"
          ]
        }
      ]
    },
    {
      "cell_type": "code",
      "source": [
        "import os\n",
        "if not os.path.exists(\"images\"):\n",
        "    os.mkdir(\"images\")"
      ],
      "metadata": {
        "id": "SsCZ3E-MIMTt"
      },
      "execution_count": 22,
      "outputs": []
    },
    {
      "cell_type": "code",
      "source": [
        "fig.to_image(format=\"png\", engine=\"kaleido\") \n",
        "fig.write_image(\"images/fig1.png\")\n",
        "pio.write_image(fig, \"covid_output.png\")"
      ],
      "metadata": {
        "id": "vBhjrcLeIRks"
      },
      "execution_count": 24,
      "outputs": []
    },
    {
      "cell_type": "code",
      "source": [],
      "metadata": {
        "id": "2xTT-UbsRewa"
      },
      "execution_count": null,
      "outputs": []
    },
    {
      "cell_type": "markdown",
      "source": [],
      "metadata": {
        "id": "n8UZGr0oaqUb"
      }
    }
  ]
}